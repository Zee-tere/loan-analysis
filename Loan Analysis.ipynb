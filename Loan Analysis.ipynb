{
 "cells": [
  {
   "cell_type": "markdown",
   "id": "dc1546c8",
   "metadata": {},
   "source": [
    "# Loan Dataset Analysis\n",
    "\n",
    "The dataset contains 367 entries for loan applications."
   ]
  },
  {
   "cell_type": "code",
   "execution_count": 2,
   "id": "3cec7f3f",
   "metadata": {},
   "outputs": [],
   "source": [
    "# import all necessary packages and set plots to be embedded inline\n",
    "import pandas as pd\n",
    "import seaborn as sb\n",
    "import numpy as np\n",
    "import matplotlib.pyplot as plt\n",
    "%matplotlib inline"
   ]
  },
  {
   "cell_type": "markdown",
   "id": "41de4ea2",
   "metadata": {},
   "source": [
    "## Data Gathering"
   ]
  },
  {
   "cell_type": "code",
   "execution_count": 44,
   "id": "3b76d218",
   "metadata": {},
   "outputs": [
    {
     "data": {
      "text/html": [
       "<div>\n",
       "<style scoped>\n",
       "    .dataframe tbody tr th:only-of-type {\n",
       "        vertical-align: middle;\n",
       "    }\n",
       "\n",
       "    .dataframe tbody tr th {\n",
       "        vertical-align: top;\n",
       "    }\n",
       "\n",
       "    .dataframe thead th {\n",
       "        text-align: right;\n",
       "    }\n",
       "</style>\n",
       "<table border=\"1\" class=\"dataframe\">\n",
       "  <thead>\n",
       "    <tr style=\"text-align: right;\">\n",
       "      <th></th>\n",
       "      <th>Loan_ID</th>\n",
       "      <th>Gender</th>\n",
       "      <th>Married</th>\n",
       "      <th>Dependents</th>\n",
       "      <th>Education</th>\n",
       "      <th>Self_Employed</th>\n",
       "      <th>ApplicantIncome</th>\n",
       "      <th>CoapplicantIncome</th>\n",
       "      <th>LoanAmount</th>\n",
       "      <th>Loan_Amount_Term</th>\n",
       "      <th>Credit_History</th>\n",
       "      <th>Property_Area</th>\n",
       "    </tr>\n",
       "  </thead>\n",
       "  <tbody>\n",
       "    <tr>\n",
       "      <th>0</th>\n",
       "      <td>LP001015</td>\n",
       "      <td>Male</td>\n",
       "      <td>Yes</td>\n",
       "      <td>0</td>\n",
       "      <td>Graduate</td>\n",
       "      <td>No</td>\n",
       "      <td>5720</td>\n",
       "      <td>0</td>\n",
       "      <td>110.0</td>\n",
       "      <td>360.0</td>\n",
       "      <td>1.0</td>\n",
       "      <td>Urban</td>\n",
       "    </tr>\n",
       "    <tr>\n",
       "      <th>1</th>\n",
       "      <td>LP001022</td>\n",
       "      <td>Male</td>\n",
       "      <td>Yes</td>\n",
       "      <td>1</td>\n",
       "      <td>Graduate</td>\n",
       "      <td>No</td>\n",
       "      <td>3076</td>\n",
       "      <td>1500</td>\n",
       "      <td>126.0</td>\n",
       "      <td>360.0</td>\n",
       "      <td>1.0</td>\n",
       "      <td>Urban</td>\n",
       "    </tr>\n",
       "  </tbody>\n",
       "</table>\n",
       "</div>"
      ],
      "text/plain": [
       "    Loan_ID Gender Married Dependents Education Self_Employed  \\\n",
       "0  LP001015   Male     Yes          0  Graduate            No   \n",
       "1  LP001022   Male     Yes          1  Graduate            No   \n",
       "\n",
       "   ApplicantIncome  CoapplicantIncome  LoanAmount  Loan_Amount_Term  \\\n",
       "0             5720                  0       110.0             360.0   \n",
       "1             3076               1500       126.0             360.0   \n",
       "\n",
       "   Credit_History Property_Area  \n",
       "0             1.0         Urban  \n",
       "1             1.0         Urban  "
      ]
     },
     "execution_count": 44,
     "metadata": {},
     "output_type": "execute_result"
    }
   ],
   "source": [
    "pd.read_csv(r\"C:\\Users\\FORTUNE\\Documents\\Datasets\\test_lAUu6dG.csv\")\n",
    "loan = pd.read_csv(r\"C:\\Users\\FORTUNE\\Documents\\Datasets\\test_lAUu6dG.csv\")\n",
    "loan.head(2)"
   ]
  },
  {
   "cell_type": "code",
   "execution_count": 43,
   "id": "50c21ce1",
   "metadata": {},
   "outputs": [
    {
     "name": "stdout",
     "output_type": "stream",
     "text": [
      "Loan_ID               0\n",
      "Gender               11\n",
      "Married               0\n",
      "Dependents           10\n",
      "Education             0\n",
      "Self_Employed        23\n",
      "ApplicantIncome       0\n",
      "CoapplicantIncome     0\n",
      "LoanAmount            5\n",
      "Loan_Amount_Term      6\n",
      "Credit_History       29\n",
      "Property_Area         0\n",
      "dtype: int64\n",
      "       ApplicantIncome  CoapplicantIncome  LoanAmount  Loan_Amount_Term  \\\n",
      "count       367.000000         367.000000  362.000000        361.000000   \n",
      "mean       4805.599455        1569.577657  136.132597        342.537396   \n",
      "std        4910.685399        2334.232099   61.366652         65.156643   \n",
      "min           0.000000           0.000000   28.000000          6.000000   \n",
      "25%        2864.000000           0.000000  100.250000        360.000000   \n",
      "50%        3786.000000        1025.000000  125.000000        360.000000   \n",
      "75%        5060.000000        2430.500000  158.000000        360.000000   \n",
      "max       72529.000000       24000.000000  550.000000        480.000000   \n",
      "\n",
      "       Credit_History  \n",
      "count      338.000000  \n",
      "mean         0.825444  \n",
      "std          0.380150  \n",
      "min          0.000000  \n",
      "25%          1.000000  \n",
      "50%          1.000000  \n",
      "75%          1.000000  \n",
      "max          1.000000  \n",
      "<class 'pandas.core.frame.DataFrame'>\n",
      "RangeIndex: 367 entries, 0 to 366\n",
      "Data columns (total 12 columns):\n",
      " #   Column             Non-Null Count  Dtype  \n",
      "---  ------             --------------  -----  \n",
      " 0   Loan_ID            367 non-null    object \n",
      " 1   Gender             356 non-null    object \n",
      " 2   Married            367 non-null    object \n",
      " 3   Dependents         357 non-null    object \n",
      " 4   Education          367 non-null    object \n",
      " 5   Self_Employed      344 non-null    object \n",
      " 6   ApplicantIncome    367 non-null    int64  \n",
      " 7   CoapplicantIncome  367 non-null    int64  \n",
      " 8   LoanAmount         362 non-null    float64\n",
      " 9   Loan_Amount_Term   361 non-null    float64\n",
      " 10  Credit_History     338 non-null    float64\n",
      " 11  Property_Area      367 non-null    object \n",
      "dtypes: float64(3), int64(2), object(7)\n",
      "memory usage: 34.5+ KB\n",
      "None\n"
     ]
    }
   ],
   "source": [
    "#overall scope of the dataset\n",
    "print (loan.isnull().sum())\n",
    "print (loan.describe())\n",
    "print (loan.info())"
   ]
  },
  {
   "cell_type": "markdown",
   "id": "42232fbb",
   "metadata": {},
   "source": [
    "The dataset contains 367 entries for loan applications. The features includes Loan_ID, Gender, Marrital status, education and other loan details. There are 11 null values under the gender column, 10 null values under dependents, 23 null values under self-employed, 5 null values under loan amounts, 6 under loan amount term and 29 under credit history. The aim of my exploration is to answer some questions\n",
    "\n",
    "- The relationship between income and nature of employment.\n",
    "- Credit history and frequency of unemployed rural dwellers taking loans. \n",
    "- Relationship between education and credit history and how does it affect loan amount. \n",
    "- Does Marital status affect the Loan amount. \n",
    "- The percentage of married men who take loans compared to single women\n",
    "- Comparison between married woman and single women\n",
    "- How does property area affect loan amount and credit score\n",
    "- Difference between loans taken by applicants with an earning coapplicant and other without"
   ]
  },
  {
   "cell_type": "markdown",
   "id": "89ad3f99",
   "metadata": {},
   "source": [
    "## Cleaning"
   ]
  },
  {
   "cell_type": "markdown",
   "id": "01a62ba7",
   "metadata": {},
   "source": [
    "##### Define"
   ]
  },
  {
   "cell_type": "markdown",
   "id": "7bbc7b6d",
   "metadata": {},
   "source": [
    "##### Quality issues\n",
    "- Null values\n",
    "- Loan amount and loan amount term as integers\n",
    "\n",
    "##### Tidyness issues\n",
    "- Primary Key not set as Loan ID."
   ]
  },
  {
   "cell_type": "markdown",
   "id": "c576b82b",
   "metadata": {},
   "source": [
    "##### Code"
   ]
  },
  {
   "cell_type": "code",
   "execution_count": 41,
   "id": "76e40750",
   "metadata": {},
   "outputs": [],
   "source": [
    "#Duplicate dataset before cleaning\n",
    "loann = loan.copy()"
   ]
  },
  {
   "cell_type": "code",
   "execution_count": 45,
   "id": "c1cefc36",
   "metadata": {},
   "outputs": [],
   "source": [
    "#address null values in Dataset.\n",
    "loann['Gender'].fillna(loann['Gender'].mode()[0], inplace=True)\n",
    "loann['Dependents'].fillna(loann['Dependents'].mode()[0], inplace=True)\n",
    "loann['Self_Employed'].fillna(loann['Self_Employed'].mode()[0], inplace=True)\n",
    "loann.LoanAmount.fillna(value = 0 , inplace = True)\n",
    "loann.Loan_Amount_Term.fillna(value = 0 , inplace = True)\n",
    "loann.fillna(value = \"Not available\", inplace = True)"
   ]
  },
  {
   "cell_type": "code",
   "execution_count": 46,
   "id": "b2c9c7a0",
   "metadata": {},
   "outputs": [],
   "source": [
    "#convert \"Loan amount\" and \"loan amount term\" to integers\n",
    "loann = loann.astype({'LoanAmount':'int'})\n",
    "loann = loann.astype({'Loan_Amount_Term':'int'})"
   ]
  },
  {
   "cell_type": "code",
   "execution_count": 8,
   "id": "03223272",
   "metadata": {},
   "outputs": [],
   "source": [
    "#loan ID as primary Key\n",
    "loann.set_index(\"Loan_ID\", inplace = True)"
   ]
  },
  {
   "cell_type": "markdown",
   "id": "a5d77216",
   "metadata": {},
   "source": [
    "#### Test"
   ]
  },
  {
   "cell_type": "code",
   "execution_count": 56,
   "id": "6b9ff857",
   "metadata": {},
   "outputs": [
    {
     "name": "stdout",
     "output_type": "stream",
     "text": [
      "<class 'pandas.core.frame.DataFrame'>\n",
      "Index: 367 entries, LP001015 to LP002989\n",
      "Data columns (total 11 columns):\n",
      " #   Column             Non-Null Count  Dtype \n",
      "---  ------             --------------  ----- \n",
      " 0   Gender             367 non-null    object\n",
      " 1   Married            367 non-null    object\n",
      " 2   Dependents         367 non-null    object\n",
      " 3   Education          367 non-null    object\n",
      " 4   Self_Employed      367 non-null    object\n",
      " 5   ApplicantIncome    367 non-null    int64 \n",
      " 6   CoapplicantIncome  367 non-null    int64 \n",
      " 7   LoanAmount         367 non-null    int32 \n",
      " 8   Loan_Amount_Term   367 non-null    int32 \n",
      " 9   Credit_History     367 non-null    object\n",
      " 10  Property_Area      367 non-null    object\n",
      "dtypes: int32(2), int64(2), object(7)\n",
      "memory usage: 31.5+ KB\n"
     ]
    }
   ],
   "source": [
    "loann.info()"
   ]
  },
  {
   "cell_type": "code",
   "execution_count": 57,
   "id": "983ee352",
   "metadata": {},
   "outputs": [
    {
     "data": {
      "text/plain": [
       "0"
      ]
     },
     "execution_count": 57,
     "metadata": {},
     "output_type": "execute_result"
    }
   ],
   "source": [
    "loann.isnull().sum().sum()"
   ]
  },
  {
   "cell_type": "code",
   "execution_count": 47,
   "id": "10f36bd8",
   "metadata": {},
   "outputs": [
    {
     "data": {
      "text/html": [
       "<div>\n",
       "<style scoped>\n",
       "    .dataframe tbody tr th:only-of-type {\n",
       "        vertical-align: middle;\n",
       "    }\n",
       "\n",
       "    .dataframe tbody tr th {\n",
       "        vertical-align: top;\n",
       "    }\n",
       "\n",
       "    .dataframe thead th {\n",
       "        text-align: right;\n",
       "    }\n",
       "</style>\n",
       "<table border=\"1\" class=\"dataframe\">\n",
       "  <thead>\n",
       "    <tr style=\"text-align: right;\">\n",
       "      <th></th>\n",
       "      <th>Loan_ID</th>\n",
       "      <th>Gender</th>\n",
       "      <th>Married</th>\n",
       "      <th>Dependents</th>\n",
       "      <th>Education</th>\n",
       "      <th>Self_Employed</th>\n",
       "      <th>ApplicantIncome</th>\n",
       "      <th>CoapplicantIncome</th>\n",
       "      <th>LoanAmount</th>\n",
       "      <th>Loan_Amount_Term</th>\n",
       "      <th>Credit_History</th>\n",
       "      <th>Property_Area</th>\n",
       "    </tr>\n",
       "  </thead>\n",
       "  <tbody>\n",
       "    <tr>\n",
       "      <th>302</th>\n",
       "      <td>LP002654</td>\n",
       "      <td>Female</td>\n",
       "      <td>No</td>\n",
       "      <td>0</td>\n",
       "      <td>Graduate</td>\n",
       "      <td>Yes</td>\n",
       "      <td>14987</td>\n",
       "      <td>0</td>\n",
       "      <td>177</td>\n",
       "      <td>360</td>\n",
       "      <td>1.0</td>\n",
       "      <td>Rural</td>\n",
       "    </tr>\n",
       "    <tr>\n",
       "      <th>196</th>\n",
       "      <td>LP002090</td>\n",
       "      <td>Male</td>\n",
       "      <td>Yes</td>\n",
       "      <td>1</td>\n",
       "      <td>Graduate</td>\n",
       "      <td>No</td>\n",
       "      <td>4796</td>\n",
       "      <td>0</td>\n",
       "      <td>114</td>\n",
       "      <td>360</td>\n",
       "      <td>0.0</td>\n",
       "      <td>Semiurban</td>\n",
       "    </tr>\n",
       "    <tr>\n",
       "      <th>344</th>\n",
       "      <td>LP002876</td>\n",
       "      <td>Male</td>\n",
       "      <td>No</td>\n",
       "      <td>0</td>\n",
       "      <td>Graduate</td>\n",
       "      <td>No</td>\n",
       "      <td>6858</td>\n",
       "      <td>0</td>\n",
       "      <td>176</td>\n",
       "      <td>360</td>\n",
       "      <td>1.0</td>\n",
       "      <td>Rural</td>\n",
       "    </tr>\n",
       "    <tr>\n",
       "      <th>177</th>\n",
       "      <td>LP002009</td>\n",
       "      <td>Female</td>\n",
       "      <td>No</td>\n",
       "      <td>0</td>\n",
       "      <td>Graduate</td>\n",
       "      <td>No</td>\n",
       "      <td>2918</td>\n",
       "      <td>0</td>\n",
       "      <td>65</td>\n",
       "      <td>360</td>\n",
       "      <td>Not available</td>\n",
       "      <td>Rural</td>\n",
       "    </tr>\n",
       "    <tr>\n",
       "      <th>191</th>\n",
       "      <td>LP002064</td>\n",
       "      <td>Male</td>\n",
       "      <td>No</td>\n",
       "      <td>0</td>\n",
       "      <td>Graduate</td>\n",
       "      <td>No</td>\n",
       "      <td>4083</td>\n",
       "      <td>0</td>\n",
       "      <td>96</td>\n",
       "      <td>360</td>\n",
       "      <td>1.0</td>\n",
       "      <td>Urban</td>\n",
       "    </tr>\n",
       "    <tr>\n",
       "      <th>1</th>\n",
       "      <td>LP001022</td>\n",
       "      <td>Male</td>\n",
       "      <td>Yes</td>\n",
       "      <td>1</td>\n",
       "      <td>Graduate</td>\n",
       "      <td>No</td>\n",
       "      <td>3076</td>\n",
       "      <td>1500</td>\n",
       "      <td>126</td>\n",
       "      <td>360</td>\n",
       "      <td>1.0</td>\n",
       "      <td>Urban</td>\n",
       "    </tr>\n",
       "    <tr>\n",
       "      <th>317</th>\n",
       "      <td>LP002774</td>\n",
       "      <td>Male</td>\n",
       "      <td>Yes</td>\n",
       "      <td>0</td>\n",
       "      <td>Not Graduate</td>\n",
       "      <td>No</td>\n",
       "      <td>1700</td>\n",
       "      <td>2900</td>\n",
       "      <td>67</td>\n",
       "      <td>360</td>\n",
       "      <td>0.0</td>\n",
       "      <td>Urban</td>\n",
       "    </tr>\n",
       "    <tr>\n",
       "      <th>316</th>\n",
       "      <td>LP002769</td>\n",
       "      <td>Female</td>\n",
       "      <td>Yes</td>\n",
       "      <td>0</td>\n",
       "      <td>Graduate</td>\n",
       "      <td>No</td>\n",
       "      <td>4283</td>\n",
       "      <td>0</td>\n",
       "      <td>120</td>\n",
       "      <td>360</td>\n",
       "      <td>1.0</td>\n",
       "      <td>Rural</td>\n",
       "    </tr>\n",
       "    <tr>\n",
       "      <th>3</th>\n",
       "      <td>LP001035</td>\n",
       "      <td>Male</td>\n",
       "      <td>Yes</td>\n",
       "      <td>2</td>\n",
       "      <td>Graduate</td>\n",
       "      <td>No</td>\n",
       "      <td>2340</td>\n",
       "      <td>2546</td>\n",
       "      <td>100</td>\n",
       "      <td>360</td>\n",
       "      <td>Not available</td>\n",
       "      <td>Urban</td>\n",
       "    </tr>\n",
       "    <tr>\n",
       "      <th>220</th>\n",
       "      <td>LP002212</td>\n",
       "      <td>Male</td>\n",
       "      <td>Yes</td>\n",
       "      <td>0</td>\n",
       "      <td>Graduate</td>\n",
       "      <td>No</td>\n",
       "      <td>2166</td>\n",
       "      <td>2166</td>\n",
       "      <td>108</td>\n",
       "      <td>360</td>\n",
       "      <td>Not available</td>\n",
       "      <td>Urban</td>\n",
       "    </tr>\n",
       "  </tbody>\n",
       "</table>\n",
       "</div>"
      ],
      "text/plain": [
       "      Loan_ID  Gender Married Dependents     Education Self_Employed  \\\n",
       "302  LP002654  Female      No          0      Graduate           Yes   \n",
       "196  LP002090    Male     Yes          1      Graduate            No   \n",
       "344  LP002876    Male      No          0      Graduate            No   \n",
       "177  LP002009  Female      No          0      Graduate            No   \n",
       "191  LP002064    Male      No          0      Graduate            No   \n",
       "1    LP001022    Male     Yes          1      Graduate            No   \n",
       "317  LP002774    Male     Yes          0  Not Graduate            No   \n",
       "316  LP002769  Female     Yes          0      Graduate            No   \n",
       "3    LP001035    Male     Yes          2      Graduate            No   \n",
       "220  LP002212    Male     Yes          0      Graduate            No   \n",
       "\n",
       "     ApplicantIncome  CoapplicantIncome  LoanAmount  Loan_Amount_Term  \\\n",
       "302            14987                  0         177               360   \n",
       "196             4796                  0         114               360   \n",
       "344             6858                  0         176               360   \n",
       "177             2918                  0          65               360   \n",
       "191             4083                  0          96               360   \n",
       "1               3076               1500         126               360   \n",
       "317             1700               2900          67               360   \n",
       "316             4283                  0         120               360   \n",
       "3               2340               2546         100               360   \n",
       "220             2166               2166         108               360   \n",
       "\n",
       "    Credit_History Property_Area  \n",
       "302            1.0         Rural  \n",
       "196            0.0     Semiurban  \n",
       "344            1.0         Rural  \n",
       "177  Not available         Rural  \n",
       "191            1.0         Urban  \n",
       "1              1.0         Urban  \n",
       "317            0.0         Urban  \n",
       "316            1.0         Rural  \n",
       "3    Not available         Urban  \n",
       "220  Not available         Urban  "
      ]
     },
     "execution_count": 47,
     "metadata": {},
     "output_type": "execute_result"
    }
   ],
   "source": [
    "loann.sample(10)"
   ]
  },
  {
   "cell_type": "markdown",
   "id": "95f7bc1b",
   "metadata": {},
   "source": [
    "## Wrangling \n",
    "\n",
    "### Exploration"
   ]
  },
  {
   "cell_type": "code",
   "execution_count": 48,
   "id": "82be8e5b",
   "metadata": {},
   "outputs": [
    {
     "data": {
      "text/html": [
       "<div>\n",
       "<style scoped>\n",
       "    .dataframe tbody tr th:only-of-type {\n",
       "        vertical-align: middle;\n",
       "    }\n",
       "\n",
       "    .dataframe tbody tr th {\n",
       "        vertical-align: top;\n",
       "    }\n",
       "\n",
       "    .dataframe thead th {\n",
       "        text-align: right;\n",
       "    }\n",
       "</style>\n",
       "<table border=\"1\" class=\"dataframe\">\n",
       "  <thead>\n",
       "    <tr style=\"text-align: right;\">\n",
       "      <th></th>\n",
       "      <th>Loan_ID</th>\n",
       "      <th>Gender</th>\n",
       "      <th>Married</th>\n",
       "      <th>Dependents</th>\n",
       "      <th>Education</th>\n",
       "      <th>Self_Employed</th>\n",
       "      <th>ApplicantIncome</th>\n",
       "      <th>CoapplicantIncome</th>\n",
       "      <th>LoanAmount</th>\n",
       "      <th>Loan_Amount_Term</th>\n",
       "      <th>Credit_History</th>\n",
       "      <th>Property_Area</th>\n",
       "    </tr>\n",
       "  </thead>\n",
       "  <tbody>\n",
       "    <tr>\n",
       "      <th>0</th>\n",
       "      <td>LP001015</td>\n",
       "      <td>Male</td>\n",
       "      <td>Yes</td>\n",
       "      <td>0</td>\n",
       "      <td>Graduate</td>\n",
       "      <td>No</td>\n",
       "      <td>5720</td>\n",
       "      <td>0</td>\n",
       "      <td>110</td>\n",
       "      <td>360</td>\n",
       "      <td>1.0</td>\n",
       "      <td>Urban</td>\n",
       "    </tr>\n",
       "    <tr>\n",
       "      <th>1</th>\n",
       "      <td>LP001022</td>\n",
       "      <td>Male</td>\n",
       "      <td>Yes</td>\n",
       "      <td>1</td>\n",
       "      <td>Graduate</td>\n",
       "      <td>No</td>\n",
       "      <td>3076</td>\n",
       "      <td>1500</td>\n",
       "      <td>126</td>\n",
       "      <td>360</td>\n",
       "      <td>1.0</td>\n",
       "      <td>Urban</td>\n",
       "    </tr>\n",
       "  </tbody>\n",
       "</table>\n",
       "</div>"
      ],
      "text/plain": [
       "    Loan_ID Gender Married Dependents Education Self_Employed  \\\n",
       "0  LP001015   Male     Yes          0  Graduate            No   \n",
       "1  LP001022   Male     Yes          1  Graduate            No   \n",
       "\n",
       "   ApplicantIncome  CoapplicantIncome  LoanAmount  Loan_Amount_Term  \\\n",
       "0             5720                  0         110               360   \n",
       "1             3076               1500         126               360   \n",
       "\n",
       "  Credit_History Property_Area  \n",
       "0            1.0         Urban  \n",
       "1            1.0         Urban  "
      ]
     },
     "execution_count": 48,
     "metadata": {},
     "output_type": "execute_result"
    }
   ],
   "source": [
    "loann.head(2)"
   ]
  },
  {
   "cell_type": "code",
   "execution_count": 49,
   "id": "e1999de2",
   "metadata": {},
   "outputs": [
    {
     "data": {
      "image/png": "[encoded data removed]",
      "text/plain": [
       "<Figure size 640x480 with 1 Axes>"
      ]
     },
     "metadata": {},
     "output_type": "display_data"
    }
   ],
   "source": [
    "#Distribution of Gender\n",
    "sb.countplot(data = loann, x = 'Gender').set_title('Gender Distribution');"
   ]
  },
  {
   "cell_type": "code",
   "execution_count": 50,
   "id": "ad31fd30",
   "metadata": {},
   "outputs": [
    {
     "data": {
      "image/png": "[encoded data removed]",
      "text/plain": [
       "<Figure size 640x480 with 1 Axes>"
      ]
     },
     "metadata": {},
     "output_type": "display_data"
    }
   ],
   "source": [
    "#Employment statistics\n",
    "sb.countplot(data = loann, x = 'Self_Employed').set_title('Employment Distribution');"
   ]
  },
  {
   "cell_type": "markdown",
   "id": "eeb51407",
   "metadata": {},
   "source": []
  },
  {
   "cell_type": "code",
   "execution_count": 51,
   "id": "467bd7b3",
   "metadata": {},
   "outputs": [
    {
     "data": {
      "image/png": "[encoded data removed]",
      "text/plain": [
       "<Figure size 640x480 with 1 Axes>"
      ]
     },
     "metadata": {},
     "output_type": "display_data"
    }
   ],
   "source": [
    "#Property Area Distrubution\n",
    "sb.countplot(data = loann, x = 'Property_Area').set_title('Property Area Distribution');"
   ]
  },
  {
   "cell_type": "code",
   "execution_count": 13,
   "id": "b7a1136d",
   "metadata": {},
   "outputs": [
    {
     "data": {
      "image/png": "[encoded data removed]",
      "text/plain": [
       "<Figure size 640x480 with 1 Axes>"
      ]
     },
     "metadata": {},
     "output_type": "display_data"
    }
   ],
   "source": [
    "#Distribution of Marriage\n",
    "sb.countplot(data = loann, x = 'Married').set_title('Mariage Distribution');"
   ]
  },
  {
   "cell_type": "code",
   "execution_count": 12,
   "id": "39bdb8c3",
   "metadata": {},
   "outputs": [
    {
     "data": {
      "image/png": "[encoded data removed]",
      "text/plain": [
       "<Figure size 640x480 with 1 Axes>"
      ]
     },
     "metadata": {},
     "output_type": "display_data"
    }
   ],
   "source": [
    "#Distribution of Education\n",
    "sb.countplot(data = loann, x = 'Education').set_title('Education Distribution');"
   ]
  },
  {
   "cell_type": "markdown",
   "id": "2c8d1078",
   "metadata": {},
   "source": [
    "An overwhelming majority of the loan applicants are employed with very few who are self employed. Rural dwellers did not take loans as much as urban and semi-urban dwellers. The number of men who take loans are more then the number of women who take. Regardless of the mising values, it does not affect the lead the male participants have in the Dataset. As expected, most of the people involved in the loan were graduates as they are more likely to be aware of the existence of uch opportunites."
   ]
  },
  {
   "cell_type": "markdown",
   "id": "f9e78da0",
   "metadata": {},
   "source": [
    "### Export for Visualization"
   ]
  },
  {
   "cell_type": "code",
   "execution_count": 52,
   "id": "5c980811",
   "metadata": {},
   "outputs": [],
   "source": [
    "loann.to_csv(\"loan_cleaned\")"
   ]
  }
 ],
 "metadata": {
  "kernelspec": {
   "display_name": "Python 3 (ipykernel)",
   "language": "python",
   "name": "python3"
  },
  "language_info": {
   "codemirror_mode": {
    "name": "ipython",
    "version": 3
   },
   "file_extension": ".py",
   "mimetype": "text/x-python",
   "name": "python",
   "nbconvert_exporter": "python",
   "pygments_lexer": "ipython3",
   "version": "3.10.4"
  }
 },
 "nbformat": 4,
 "nbformat_minor": 5
}
